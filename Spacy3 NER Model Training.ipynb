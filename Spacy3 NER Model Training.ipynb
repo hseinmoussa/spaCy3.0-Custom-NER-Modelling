{
 "cells": [
  {
   "cell_type": "markdown",
   "metadata": {},
   "source": [
    "# Spacy3 NER - Model Building(Training, Prediction Example)\n",
    "\n",
    "\n",
    "A working model of Spacy NER Model for custom model building"
   ]
  },
  {
   "cell_type": "code",
   "execution_count": 1,
   "metadata": {},
   "outputs": [
    {
     "name": "stdout",
     "output_type": "stream",
     "text": [
      "2021-05-04\n"
     ]
    }
   ],
   "source": [
    "from __future__ import unicode_literals, print_function\n",
    "\n",
    "import random\n",
    "from pathlib import Path\n",
    "import spacy\n",
    "from tqdm import tqdm\n",
    "\n",
    "import datetime\n",
    "\n",
    "print(datetime.date.today())"
   ]
  },
  {
   "cell_type": "markdown",
   "metadata": {},
   "source": [
    "## Spacy3 Sample Data Model"
   ]
  },
  {
   "cell_type": "code",
   "execution_count": 2,
   "metadata": {},
   "outputs": [],
   "source": [
    "TRAIN_DATA = [\n",
    "    ('Who is Nishanth?', {\n",
    "        'entities': [(7, 15, 'PERSON')]\n",
    "    }),\n",
    "     ('Who is Kamal Khumar?', {\n",
    "        'entities': [(7, 19, 'PERSON')]\n",
    "    }),\n",
    "    ('I like London and Berlin.', {\n",
    "        'entities': [(7, 13, 'LOC'), (18, 24, 'LOC')]\n",
    "    })\n",
    "]"
   ]
  },
  {
   "cell_type": "markdown",
   "metadata": {},
   "source": [
    "## Spacy3 Model Building"
   ]
  },
  {
   "cell_type": "code",
   "execution_count": 18,
   "metadata": {},
   "outputs": [],
   "source": [
    "# Model & Training Params\n",
    "model = None\n",
    "n_iter=100"
   ]
  },
  {
   "cell_type": "code",
   "execution_count": 4,
   "metadata": {},
   "outputs": [
    {
     "name": "stdout",
     "output_type": "stream",
     "text": [
      "Created blank 'en' model\n"
     ]
    }
   ],
   "source": [
    "if model is not None:\n",
    "    nlp = spacy.load(model)  \n",
    "    print(\"Loaded model '%s'\" % model)\n",
    "else:\n",
    "    nlp = spacy.blank('en')  \n",
    "    print(\"Created blank 'en' model\")"
   ]
  },
  {
   "cell_type": "code",
   "execution_count": 17,
   "metadata": {},
   "outputs": [],
   "source": [
    "if 'ner' not in nlp.pipe_names:\n",
    "    ner = nlp.create_pipe('ner')\n",
    "    nlp.add_pipe(factory_name='ner', last=True)\n",
    "else:\n",
    "    ner = nlp.get_pipe('ner')"
   ]
  },
  {
   "cell_type": "markdown",
   "metadata": {},
   "source": [
    "__Note2:__ As of Spacy3 the format of providing inputs to  `nlp.update` has change.\n",
    "    \n",
    "    In the `spacy2` packages, we used to pass the `nlp.update([text], [annotations],.....)` and in the current models `nlp.update` accepts only the inputs which in `spacy.training.example.Example` class."
   ]
  },
  {
   "cell_type": "code",
   "execution_count": 7,
   "metadata": {},
   "outputs": [
    {
     "name": "stderr",
     "output_type": "stream",
     "text": [
      "100%|██████████| 3/3 [00:00<00:00, 27.35it/s]\n",
      "100%|██████████| 3/3 [00:00<00:00, 34.67it/s]\n",
      "100%|██████████| 3/3 [00:00<00:00, 33.68it/s]\n",
      "  0%|          | 0/3 [00:00<?, ?it/s]"
     ]
    },
    {
     "name": "stdout",
     "output_type": "stream",
     "text": [
      "{'ner': 12.980319321155548}\n",
      "{'ner': 12.311058759689331}\n",
      "{'ner': 11.008314788341522}\n"
     ]
    },
    {
     "name": "stderr",
     "output_type": "stream",
     "text": [
      "100%|██████████| 3/3 [00:00<00:00, 27.52it/s]\n",
      "100%|██████████| 3/3 [00:00<00:00, 20.97it/s]\n",
      "  0%|          | 0/3 [00:00<?, ?it/s]"
     ]
    },
    {
     "name": "stdout",
     "output_type": "stream",
     "text": [
      "{'ner': 9.964548081159592}\n",
      "{'ner': 8.560982674360275}\n"
     ]
    },
    {
     "name": "stderr",
     "output_type": "stream",
     "text": [
      "100%|██████████| 3/3 [00:00<00:00, 21.73it/s]\n",
      "100%|██████████| 3/3 [00:00<00:00, 24.90it/s]\n",
      "  0%|          | 0/3 [00:00<?, ?it/s]"
     ]
    },
    {
     "name": "stdout",
     "output_type": "stream",
     "text": [
      "{'ner': 7.494104325771332}\n",
      "{'ner': 7.147747904062271}\n"
     ]
    },
    {
     "name": "stderr",
     "output_type": "stream",
     "text": [
      "100%|██████████| 3/3 [00:00<00:00, 26.93it/s]\n",
      "100%|██████████| 3/3 [00:00<00:00, 22.05it/s]\n",
      "  0%|          | 0/3 [00:00<?, ?it/s]"
     ]
    },
    {
     "name": "stdout",
     "output_type": "stream",
     "text": [
      "{'ner': 6.809496946632862}\n",
      "{'ner': 6.252179758623242}\n"
     ]
    },
    {
     "name": "stderr",
     "output_type": "stream",
     "text": [
      "100%|██████████| 3/3 [00:00<00:00, 17.74it/s]\n",
      "100%|██████████| 3/3 [00:00<00:00, 22.43it/s]\n",
      "  0%|          | 0/3 [00:00<?, ?it/s]"
     ]
    },
    {
     "name": "stdout",
     "output_type": "stream",
     "text": [
      "{'ner': 5.5997209921479225}\n",
      "{'ner': 5.3316211918136105}\n"
     ]
    },
    {
     "name": "stderr",
     "output_type": "stream",
     "text": [
      "100%|██████████| 3/3 [00:00<00:00, 23.73it/s]\n",
      "100%|██████████| 3/3 [00:00<00:00, 26.63it/s]\n",
      "  0%|          | 0/3 [00:00<?, ?it/s]"
     ]
    },
    {
     "name": "stdout",
     "output_type": "stream",
     "text": [
      "{'ner': 4.666502970037982}\n",
      "{'ner': 5.111178790699341}\n"
     ]
    },
    {
     "name": "stderr",
     "output_type": "stream",
     "text": [
      "100%|██████████| 3/3 [00:00<00:00, 28.33it/s]\n",
      "100%|██████████| 3/3 [00:00<00:00, 32.09it/s]\n",
      "100%|██████████| 3/3 [00:00<00:00, 37.04it/s]\n",
      "  0%|          | 0/3 [00:00<?, ?it/s]"
     ]
    },
    {
     "name": "stdout",
     "output_type": "stream",
     "text": [
      "{'ner': 4.643602845200803}\n",
      "{'ner': 6.334257873240858}\n",
      "{'ner': 4.517644856576226}\n"
     ]
    },
    {
     "name": "stderr",
     "output_type": "stream",
     "text": [
      "100%|██████████| 3/3 [00:00<00:00, 26.21it/s]\n",
      "100%|██████████| 3/3 [00:00<00:00, 30.86it/s]\n",
      "100%|██████████| 3/3 [00:00<00:00, 34.68it/s]\n",
      "  0%|          | 0/3 [00:00<?, ?it/s]"
     ]
    },
    {
     "name": "stdout",
     "output_type": "stream",
     "text": [
      "{'ner': 4.356501877948176}\n",
      "{'ner': 4.984810533127529}\n",
      "{'ner': 6.241194950256613}\n"
     ]
    },
    {
     "name": "stderr",
     "output_type": "stream",
     "text": [
      "100%|██████████| 3/3 [00:00<00:00, 29.19it/s]\n",
      "100%|██████████| 3/3 [00:00<00:00, 30.37it/s]\n",
      "100%|██████████| 3/3 [00:00<00:00, 35.23it/s]\n",
      "  0%|          | 0/3 [00:00<?, ?it/s]"
     ]
    },
    {
     "name": "stdout",
     "output_type": "stream",
     "text": [
      "{'ner': 6.801824269219651}\n",
      "{'ner': 8.814300565165468}\n",
      "{'ner': 5.863554886549537}\n"
     ]
    },
    {
     "name": "stderr",
     "output_type": "stream",
     "text": [
      "100%|██████████| 3/3 [00:00<00:00, 27.84it/s]\n",
      "100%|██████████| 3/3 [00:00<00:00, 23.03it/s]\n",
      "  0%|          | 0/3 [00:00<?, ?it/s]"
     ]
    },
    {
     "name": "stdout",
     "output_type": "stream",
     "text": [
      "{'ner': 4.626041115086991}\n",
      "{'ner': 3.1144582917622756}\n"
     ]
    },
    {
     "name": "stderr",
     "output_type": "stream",
     "text": [
      "100%|██████████| 3/3 [00:00<00:00, 25.81it/s]\n",
      "100%|██████████| 3/3 [00:00<00:00, 29.23it/s]\n",
      "100%|██████████| 3/3 [00:00<00:00, 40.23it/s]\n",
      "  0%|          | 0/3 [00:00<?, ?it/s]"
     ]
    },
    {
     "name": "stdout",
     "output_type": "stream",
     "text": [
      "{'ner': 2.559470534979482}\n",
      "{'ner': 2.7828347058261897}\n",
      "{'ner': 2.284569873926557}\n"
     ]
    },
    {
     "name": "stderr",
     "output_type": "stream",
     "text": [
      "100%|██████████| 3/3 [00:00<00:00, 31.69it/s]\n",
      "100%|██████████| 3/3 [00:00<00:00, 24.49it/s]\n",
      "  0%|          | 0/3 [00:00<?, ?it/s]"
     ]
    },
    {
     "name": "stdout",
     "output_type": "stream",
     "text": [
      "{'ner': 2.189214519490804}\n",
      "{'ner': 2.269616372891772}\n"
     ]
    },
    {
     "name": "stderr",
     "output_type": "stream",
     "text": [
      "100%|██████████| 3/3 [00:00<00:00, 17.75it/s]\n",
      "100%|██████████| 3/3 [00:00<00:00, 32.32it/s]\n",
      "100%|██████████| 3/3 [00:00<00:00, 31.41it/s]\n",
      "  0%|          | 0/3 [00:00<?, ?it/s]"
     ]
    },
    {
     "name": "stdout",
     "output_type": "stream",
     "text": [
      "{'ner': 1.8250188302519064}\n",
      "{'ner': 2.8328332858671956}\n",
      "{'ner': 1.5807744569509055}\n"
     ]
    },
    {
     "name": "stderr",
     "output_type": "stream",
     "text": [
      "100%|██████████| 3/3 [00:00<00:00, 26.65it/s]\n",
      "100%|██████████| 3/3 [00:00<00:00, 29.55it/s]\n",
      "  0%|          | 0/3 [00:00<?, ?it/s]"
     ]
    },
    {
     "name": "stdout",
     "output_type": "stream",
     "text": [
      "{'ner': 2.93997597710564}\n",
      "{'ner': 2.2311021183966275}\n"
     ]
    },
    {
     "name": "stderr",
     "output_type": "stream",
     "text": [
      "100%|██████████| 3/3 [00:00<00:00, 23.65it/s]\n",
      "100%|██████████| 3/3 [00:00<00:00, 17.69it/s]\n",
      "  0%|          | 0/3 [00:00<?, ?it/s]"
     ]
    },
    {
     "name": "stdout",
     "output_type": "stream",
     "text": [
      "{'ner': 0.715067291781424}\n",
      "{'ner': 2.4039388072904444}\n"
     ]
    },
    {
     "name": "stderr",
     "output_type": "stream",
     "text": [
      "100%|██████████| 3/3 [00:00<00:00, 34.02it/s]\n",
      "100%|██████████| 3/3 [00:00<00:00, 37.84it/s]\n",
      "100%|██████████| 3/3 [00:00<00:00, 26.75it/s]\n"
     ]
    },
    {
     "name": "stdout",
     "output_type": "stream",
     "text": [
      "{'ner': 0.624455678371771}\n",
      "{'ner': 0.5759262654274656}\n",
      "{'ner': 0.5674940006518892}\n"
     ]
    },
    {
     "name": "stderr",
     "output_type": "stream",
     "text": [
      "100%|██████████| 3/3 [00:00<00:00, 25.39it/s]\n",
      "100%|██████████| 3/3 [00:00<00:00, 41.45it/s]\n",
      "100%|██████████| 3/3 [00:00<00:00, 39.08it/s]\n",
      "  0%|          | 0/3 [00:00<?, ?it/s]"
     ]
    },
    {
     "name": "stdout",
     "output_type": "stream",
     "text": [
      "{'ner': 0.36080906980659555}\n",
      "{'ner': 0.16868381214995257}\n",
      "{'ner': 1.2240315327007816}\n"
     ]
    },
    {
     "name": "stderr",
     "output_type": "stream",
     "text": [
      "100%|██████████| 3/3 [00:00<00:00, 28.51it/s]\n",
      "100%|██████████| 3/3 [00:00<00:00, 36.31it/s]\n",
      "100%|██████████| 3/3 [00:00<00:00, 27.71it/s]"
     ]
    },
    {
     "name": "stdout",
     "output_type": "stream",
     "text": [
      "{'ner': 0.011906150036428295}\n",
      "{'ner': 0.05341847198153671}\n",
      "{'ner': 0.00505619317753235}"
     ]
    },
    {
     "name": "stderr",
     "output_type": "stream",
     "text": [
      "\n",
      "100%|██████████| 3/3 [00:00<00:00, 36.79it/s]\n",
      "100%|██████████| 3/3 [00:00<00:00, 44.42it/s]\n",
      "100%|██████████| 3/3 [00:00<00:00, 42.36it/s]\n",
      "  0%|          | 0/3 [00:00<?, ?it/s]"
     ]
    },
    {
     "name": "stdout",
     "output_type": "stream",
     "text": [
      "\n",
      "{'ner': 0.0008243863311860845}\n",
      "{'ner': 0.02013278041547363}\n",
      "{'ner': 0.00013035071366598828}\n"
     ]
    },
    {
     "name": "stderr",
     "output_type": "stream",
     "text": [
      "100%|██████████| 3/3 [00:00<00:00, 35.14it/s]\n",
      "100%|██████████| 3/3 [00:00<00:00, 31.44it/s]\n",
      "100%|██████████| 3/3 [00:00<00:00, 37.87it/s]\n",
      "  0%|          | 0/3 [00:00<?, ?it/s]"
     ]
    },
    {
     "name": "stdout",
     "output_type": "stream",
     "text": [
      "{'ner': 0.0014708780336125812}\n",
      "{'ner': 0.0003686893623645816}\n",
      "{'ner': 0.1817735408101359}\n"
     ]
    },
    {
     "name": "stderr",
     "output_type": "stream",
     "text": [
      "100%|██████████| 3/3 [00:00<00:00, 31.81it/s]\n",
      "100%|██████████| 3/3 [00:00<00:00, 40.15it/s]\n",
      "100%|██████████| 3/3 [00:00<00:00, 39.54it/s]\n",
      "  0%|          | 0/3 [00:00<?, ?it/s]"
     ]
    },
    {
     "name": "stdout",
     "output_type": "stream",
     "text": [
      "{'ner': 0.017029728022777}\n",
      "{'ner': 6.746001942516204e-06}\n",
      "{'ner': 0.00014853442456995525}\n"
     ]
    },
    {
     "name": "stderr",
     "output_type": "stream",
     "text": [
      "100%|██████████| 3/3 [00:00<00:00, 30.68it/s]\n",
      "100%|██████████| 3/3 [00:00<00:00, 40.55it/s]\n",
      "100%|██████████| 3/3 [00:00<00:00, 32.06it/s]\n",
      "  0%|          | 0/3 [00:00<?, ?it/s]"
     ]
    },
    {
     "name": "stdout",
     "output_type": "stream",
     "text": [
      "{'ner': 0.007244845739106269}\n",
      "{'ner': 0.0027772387732367815}\n",
      "{'ner': 0.02159830658570109}\n"
     ]
    },
    {
     "name": "stderr",
     "output_type": "stream",
     "text": [
      "100%|██████████| 3/3 [00:00<00:00, 33.82it/s]\n",
      "100%|██████████| 3/3 [00:00<00:00, 35.45it/s]\n",
      "100%|██████████| 3/3 [00:00<00:00, 38.24it/s]\n",
      "  0%|          | 0/3 [00:00<?, ?it/s]"
     ]
    },
    {
     "name": "stdout",
     "output_type": "stream",
     "text": [
      "{'ner': 8.378032120811538e-06}\n",
      "{'ner': 0.004593457567891715}\n",
      "{'ner': 0.0001913059083154695}\n"
     ]
    },
    {
     "name": "stderr",
     "output_type": "stream",
     "text": [
      "100%|██████████| 3/3 [00:00<00:00, 35.83it/s]\n",
      "100%|██████████| 3/3 [00:00<00:00, 23.52it/s]\n",
      "  0%|          | 0/3 [00:00<?, ?it/s]"
     ]
    },
    {
     "name": "stdout",
     "output_type": "stream",
     "text": [
      "{'ner': 0.0018499321844585837}\n",
      "{'ner': 0.013717168741703638}\n"
     ]
    },
    {
     "name": "stderr",
     "output_type": "stream",
     "text": [
      "100%|██████████| 3/3 [00:00<00:00, 17.39it/s]\n",
      "100%|██████████| 3/3 [00:00<00:00, 35.17it/s]\n",
      "100%|██████████| 3/3 [00:00<00:00, 34.45it/s]\n",
      "  0%|          | 0/3 [00:00<?, ?it/s]"
     ]
    },
    {
     "name": "stdout",
     "output_type": "stream",
     "text": [
      "{'ner': 1.064371856127766e-06}\n",
      "{'ner': 2.246477471741537e-08}\n",
      "{'ner': 1.5878341230069328e-06}\n"
     ]
    },
    {
     "name": "stderr",
     "output_type": "stream",
     "text": [
      "100%|██████████| 3/3 [00:00<00:00, 36.21it/s]\n",
      "100%|██████████| 3/3 [00:00<00:00, 30.43it/s]\n",
      "100%|██████████| 3/3 [00:00<00:00, 36.44it/s]\n",
      "  0%|          | 0/3 [00:00<?, ?it/s]"
     ]
    },
    {
     "name": "stdout",
     "output_type": "stream",
     "text": [
      "{'ner': 0.01741482633795052}\n",
      "{'ner': 1.4317723344501601e-05}\n",
      "{'ner': 4.1163054968047617e-07}\n"
     ]
    },
    {
     "name": "stderr",
     "output_type": "stream",
     "text": [
      "100%|██████████| 3/3 [00:00<00:00, 30.94it/s]\n",
      "100%|██████████| 3/3 [00:00<00:00, 33.84it/s]\n",
      "100%|██████████| 3/3 [00:00<00:00, 34.35it/s]\n",
      "  0%|          | 0/3 [00:00<?, ?it/s]"
     ]
    },
    {
     "name": "stdout",
     "output_type": "stream",
     "text": [
      "{'ner': 0.00010805964748961546}\n",
      "{'ner': 3.890004747748672e-08}\n",
      "{'ner': 0.00011721707497961082}\n"
     ]
    },
    {
     "name": "stderr",
     "output_type": "stream",
     "text": [
      "100%|██████████| 3/3 [00:00<00:00, 31.09it/s]\n",
      "100%|██████████| 3/3 [00:00<00:00, 33.36it/s]\n",
      "100%|██████████| 3/3 [00:00<00:00, 40.91it/s]\n",
      "  0%|          | 0/3 [00:00<?, ?it/s]"
     ]
    },
    {
     "name": "stdout",
     "output_type": "stream",
     "text": [
      "{'ner': 0.00030704612121467323}\n",
      "{'ner': 0.012633368691881175}\n",
      "{'ner': 1.5329991876744552e-07}\n"
     ]
    },
    {
     "name": "stderr",
     "output_type": "stream",
     "text": [
      "100%|██████████| 3/3 [00:00<00:00, 27.73it/s]\n",
      "100%|██████████| 3/3 [00:00<00:00, 42.18it/s]\n",
      "100%|██████████| 3/3 [00:00<00:00, 39.14it/s]\n",
      "  0%|          | 0/3 [00:00<?, ?it/s]"
     ]
    },
    {
     "name": "stdout",
     "output_type": "stream",
     "text": [
      "{'ner': 3.8254045383562295e-05}\n",
      "{'ner': 1.5513627853737408e-07}\n",
      "{'ner': 7.684096087987159e-05}\n"
     ]
    },
    {
     "name": "stderr",
     "output_type": "stream",
     "text": [
      "100%|██████████| 3/3 [00:00<00:00, 31.28it/s]\n",
      "100%|██████████| 3/3 [00:00<00:00, 34.26it/s]\n",
      "100%|██████████| 3/3 [00:00<00:00, 40.13it/s]\n",
      "  0%|          | 0/3 [00:00<?, ?it/s]"
     ]
    },
    {
     "name": "stdout",
     "output_type": "stream",
     "text": [
      "{'ner': 0.00048543954100789283}\n",
      "{'ner': 3.3275541617166604e-08}\n",
      "{'ner': 0.00040133387768896776}\n"
     ]
    },
    {
     "name": "stderr",
     "output_type": "stream",
     "text": [
      "100%|██████████| 3/3 [00:00<00:00, 28.33it/s]\n",
      "100%|██████████| 3/3 [00:00<00:00, 25.93it/s]\n",
      "  0%|          | 0/3 [00:00<?, ?it/s]"
     ]
    },
    {
     "name": "stdout",
     "output_type": "stream",
     "text": [
      "{'ner': 1.5138306144453272e-07}\n",
      "{'ner': 2.6300833138873905e-08}\n"
     ]
    },
    {
     "name": "stderr",
     "output_type": "stream",
     "text": [
      "100%|██████████| 3/3 [00:00<00:00, 29.10it/s]\n",
      "100%|██████████| 3/3 [00:00<00:00, 29.42it/s]\n",
      "100%|██████████| 3/3 [00:00<00:00, 35.57it/s]\n",
      "  0%|          | 0/3 [00:00<?, ?it/s]"
     ]
    },
    {
     "name": "stdout",
     "output_type": "stream",
     "text": [
      "{'ner': 3.5794416048165813e-07}\n",
      "{'ner': 8.581952126705328e-05}\n",
      "{'ner': 6.639954419894849e-09}\n"
     ]
    },
    {
     "name": "stderr",
     "output_type": "stream",
     "text": [
      "100%|██████████| 3/3 [00:00<00:00, 29.57it/s]\n",
      "100%|██████████| 3/3 [00:00<00:00, 34.21it/s]\n",
      "100%|██████████| 3/3 [00:00<00:00, 40.87it/s]\n",
      "  0%|          | 0/3 [00:00<?, ?it/s]"
     ]
    },
    {
     "name": "stdout",
     "output_type": "stream",
     "text": [
      "{'ner': 1.1909877976503998e-06}\n",
      "{'ner': 1.586881272015997e-05}\n",
      "{'ner': 7.920333079243761e-08}\n"
     ]
    },
    {
     "name": "stderr",
     "output_type": "stream",
     "text": [
      "100%|██████████| 3/3 [00:00<00:00, 32.73it/s]\n",
      "100%|██████████| 3/3 [00:00<00:00, 29.96it/s]\n",
      "100%|██████████| 3/3 [00:00<00:00, 35.21it/s]\n",
      "  0%|          | 0/3 [00:00<?, ?it/s]"
     ]
    },
    {
     "name": "stdout",
     "output_type": "stream",
     "text": [
      "{'ner': 1.0171083705036309e-07}\n",
      "{'ner': 2.9472733673791743e-08}\n",
      "{'ner': 2.049207301247394e-06}\n"
     ]
    },
    {
     "name": "stderr",
     "output_type": "stream",
     "text": [
      "100%|██████████| 3/3 [00:00<00:00, 39.17it/s]\n",
      "100%|██████████| 3/3 [00:00<00:00, 35.71it/s]\n",
      "100%|██████████| 3/3 [00:00<00:00, 37.99it/s]\n",
      "  0%|          | 0/3 [00:00<?, ?it/s]"
     ]
    },
    {
     "name": "stdout",
     "output_type": "stream",
     "text": [
      "{'ner': 0.0005363296435380145}\n",
      "{'ner': 1.607732755738595e-06}\n",
      "{'ner': 4.2108962484672143e-07}\n"
     ]
    },
    {
     "name": "stderr",
     "output_type": "stream",
     "text": [
      "100%|██████████| 3/3 [00:00<00:00, 35.84it/s]\n",
      "100%|██████████| 3/3 [00:00<00:00, 38.27it/s]\n",
      "100%|██████████| 3/3 [00:00<00:00, 34.25it/s]\n",
      "  0%|          | 0/3 [00:00<?, ?it/s]"
     ]
    },
    {
     "name": "stdout",
     "output_type": "stream",
     "text": [
      "{'ner': 6.36253916429815e-08}\n",
      "{'ner': 7.755486084172884e-08}\n",
      "{'ner': 1.3739288210257049e-08}\n"
     ]
    },
    {
     "name": "stderr",
     "output_type": "stream",
     "text": [
      "100%|██████████| 3/3 [00:00<00:00, 28.19it/s]\n",
      "100%|██████████| 3/3 [00:00<00:00, 32.92it/s]\n",
      "100%|██████████| 3/3 [00:00<00:00, 34.32it/s]"
     ]
    },
    {
     "name": "stdout",
     "output_type": "stream",
     "text": [
      "{'ner': 7.086135590781128e-10}\n",
      "{'ner': 2.515308585839245e-08}\n",
      "{'ner': 3.6175018446075242e-06}\n"
     ]
    },
    {
     "name": "stderr",
     "output_type": "stream",
     "text": [
      "\n"
     ]
    }
   ],
   "source": [
    "from spacy.training.example import Example\n",
    "\n",
    "for _, annotations in TRAIN_DATA:\n",
    "    for ent in annotations.get('entities'):\n",
    "        ner.add_label(ent[2])\n",
    "\n",
    "other_pipes = [pipe for pipe in nlp.pipe_names if pipe != 'ner']\n",
    "with nlp.disable_pipes(*other_pipes):  # only train NER\n",
    "    optimizer = nlp.begin_training()\n",
    "    for itn in range(n_iter):\n",
    "        random.shuffle(TRAIN_DATA)\n",
    "        losses = {}\n",
    "        for text, annotations in tqdm(TRAIN_DATA):\n",
    "            example = Example.from_dict(nlp.make_doc(text), annotations)\n",
    "            nlp.update(\n",
    "                [example],  \n",
    "                drop=0.5,  \n",
    "                sgd=optimizer,\n",
    "                losses=losses)\n",
    "        print(losses)"
   ]
  },
  {
   "cell_type": "markdown",
   "metadata": {},
   "source": [
    "## Spacy3 Prediction"
   ]
  },
  {
   "cell_type": "code",
   "execution_count": 8,
   "metadata": {},
   "outputs": [
    {
     "name": "stdout",
     "output_type": "stream",
     "text": [
      "Entities [('Nishanth', 'PERSON')]\n",
      "Entities [('Kamal Khumar', 'PERSON')]\n",
      "Entities [('London', 'LOC'), ('Berlin', 'LOC')]\n"
     ]
    }
   ],
   "source": [
    "for text, _ in TRAIN_DATA:\n",
    "    doc = nlp(text)\n",
    "    print('Entities', [(ent.text, ent.label_) for ent in doc.ents])"
   ]
  },
  {
   "cell_type": "markdown",
   "metadata": {},
   "source": [
    "## Spacy3 Save Model"
   ]
  },
  {
   "cell_type": "code",
   "execution_count": 10,
   "metadata": {},
   "outputs": [],
   "source": [
    "nlp.to_disk('sample_ner_traning_model')"
   ]
  },
  {
   "cell_type": "markdown",
   "metadata": {},
   "source": [
    "## Spacy3 Load Model"
   ]
  },
  {
   "cell_type": "code",
   "execution_count": 16,
   "metadata": {},
   "outputs": [
    {
     "name": "stdout",
     "output_type": "stream",
     "text": [
      "Entities [('London', 'LOC'), ('Berlin', 'LOC')]\n"
     ]
    }
   ],
   "source": [
    "model = spacy.load('sample_ner_traning_model')\n",
    "\n",
    "print('Entities', [(ent.text, ent.label_) for ent in model(text).ents])"
   ]
  }
 ],
 "metadata": {
  "hide_input": false,
  "kernelspec": {
   "display_name": "Python 3",
   "language": "python",
   "name": "python3"
  },
  "language_info": {
   "codemirror_mode": {
    "name": "ipython",
    "version": 3
   },
   "file_extension": ".py",
   "mimetype": "text/x-python",
   "name": "python",
   "nbconvert_exporter": "python",
   "pygments_lexer": "ipython3",
   "version": "3.8.5"
  }
 },
 "nbformat": 4,
 "nbformat_minor": 4
}
